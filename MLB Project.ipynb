{
 "cells": [
  {
   "cell_type": "markdown",
   "metadata": {},
   "source": [
    "# MLB Project for data from the 2022-2023 season\n",
    "\n",
    "### Dataset available from https://drive.google.com/drive/folders/1G1WHb3nBpv3xXQY4V6pLo8qI9lHq9X0_?usp=sharing\n"
   ]
  },
  {
   "cell_type": "code",
   "execution_count": 1,
   "metadata": {},
   "outputs": [],
   "source": [
    "import os\n",
    "import pandas as pd\n",
    "import matplotlib.pyplot as plt\n",
    "import seaborn as sns"
   ]
  },
  {
   "cell_type": "code",
   "execution_count": 12,
   "metadata": {},
   "outputs": [
    {
     "data": {
      "text/plain": [
       "(736626, 95)"
      ]
     },
     "execution_count": 12,
     "metadata": {},
     "output_type": "execute_result"
    }
   ],
   "source": [
    "df = pd.read_csv(r'2023-mlb-data.csv')\n",
    "df.shape"
   ]
  },
  {
   "cell_type": "code",
   "execution_count": 3,
   "metadata": {},
   "outputs": [],
   "source": [
    "# Adding more measures to data\n",
    "# Total Score\n",
    "df['total_score'] = df['home_score'] + df['away_score']\n",
    "\n",
    "# Is_strike flag\n",
    "df['is_strike'] = 0\n",
    "strike_events = ['called_strike', 'swinging_strike', 'foul', 'swinging_strike_blocked', 'foul_tip', 'foul_bunt', 'missed_bunt', 'bunt_foul_tip']\n",
    "df.loc[df['description'].isin(strike_events), 'is_strike'] = 1\n",
    "\n"
   ]
  },
  {
   "cell_type": "code",
   "execution_count": 4,
   "metadata": {},
   "outputs": [],
   "source": [
    "_df = df.loc [:, ['pitcher_name', 'pitch_name', 'is_strike']].groupby(['pitcher_name', 'pitch_name'], as_index=False).count().rename(columns={'is_strike':'n_pitches'})\n",
    "\n",
    "df2 = df.merge(_df, on=['pitcher_name', 'pitch_name'])\n",
    "\n",
    "df2 = df2.loc[df2['n_pitches']>=100]\n",
    "\n",
    "df2['runs_scored'] = df2['post_bat_score'] - df2['bat_score']"
   ]
  },
  {
   "cell_type": "code",
   "execution_count": 5,
   "metadata": {},
   "outputs": [
    {
     "data": {
      "text/plain": [
       "count    672545.000000\n",
       "mean          0.028695\n",
       "std           0.209070\n",
       "min           0.000000\n",
       "25%           0.000000\n",
       "50%           0.000000\n",
       "75%           0.000000\n",
       "max           4.000000\n",
       "Name: runs_scored, dtype: float64"
      ]
     },
     "execution_count": 5,
     "metadata": {},
     "output_type": "execute_result"
    }
   ],
   "source": [
    "df2['runs_scored'].describe()"
   ]
  },
  {
   "cell_type": "code",
   "execution_count": 6,
   "metadata": {},
   "outputs": [
    {
     "data": {
      "text/html": [
       "<div>\n",
       "<style scoped>\n",
       "    .dataframe tbody tr th:only-of-type {\n",
       "        vertical-align: middle;\n",
       "    }\n",
       "\n",
       "    .dataframe tbody tr th {\n",
       "        vertical-align: top;\n",
       "    }\n",
       "\n",
       "    .dataframe thead th {\n",
       "        text-align: right;\n",
       "    }\n",
       "</style>\n",
       "<table border=\"1\" class=\"dataframe\">\n",
       "  <thead>\n",
       "    <tr style=\"text-align: right;\">\n",
       "      <th></th>\n",
       "      <th>pitcher_name</th>\n",
       "      <th>pitcher</th>\n",
       "      <th>runs_scored</th>\n",
       "      <th>n_innings</th>\n",
       "      <th>era</th>\n",
       "    </tr>\n",
       "  </thead>\n",
       "  <tbody>\n",
       "    <tr>\n",
       "      <th>0</th>\n",
       "      <td>Abbott, Cory</td>\n",
       "      <td>676265</td>\n",
       "      <td>25</td>\n",
       "      <td>52</td>\n",
       "      <td>4.326923</td>\n",
       "    </tr>\n",
       "    <tr>\n",
       "      <th>1</th>\n",
       "      <td>Abreu, Albert</td>\n",
       "      <td>656061</td>\n",
       "      <td>12</td>\n",
       "      <td>51</td>\n",
       "      <td>2.117647</td>\n",
       "    </tr>\n",
       "    <tr>\n",
       "      <th>2</th>\n",
       "      <td>Abreu, Bryan</td>\n",
       "      <td>650556</td>\n",
       "      <td>26</td>\n",
       "      <td>81</td>\n",
       "      <td>2.888889</td>\n",
       "    </tr>\n",
       "    <tr>\n",
       "      <th>3</th>\n",
       "      <td>Acevedo, Domingo</td>\n",
       "      <td>642758</td>\n",
       "      <td>32</td>\n",
       "      <td>82</td>\n",
       "      <td>3.512195</td>\n",
       "    </tr>\n",
       "    <tr>\n",
       "      <th>4</th>\n",
       "      <td>Adam, Jason</td>\n",
       "      <td>592094</td>\n",
       "      <td>14</td>\n",
       "      <td>77</td>\n",
       "      <td>1.636364</td>\n",
       "    </tr>\n",
       "  </tbody>\n",
       "</table>\n",
       "</div>"
      ],
      "text/plain": [
       "       pitcher_name  pitcher  runs_scored  n_innings       era\n",
       "0      Abbott, Cory   676265           25         52  4.326923\n",
       "1     Abreu, Albert   656061           12         51  2.117647\n",
       "2      Abreu, Bryan   650556           26         81  2.888889\n",
       "3  Acevedo, Domingo   642758           32         82  3.512195\n",
       "4       Adam, Jason   592094           14         77  1.636364"
      ]
     },
     "execution_count": 6,
     "metadata": {},
     "output_type": "execute_result"
    }
   ],
   "source": [
    "# Create Era dataframe/dataset\n",
    "era = df2.loc[:, ['pitcher_name', 'pitcher', 'runs_scored']].groupby(['pitcher_name', 'pitcher'], as_index=False).sum()\n",
    "\n",
    "# create innings data for era df\n",
    "_df = df2.loc[:, ['pitcher', 'game_pk', 'inning']].drop_duplicates()\n",
    "_df = _df['pitcher'].value_counts().to_frame().reset_index().rename(columns={'count':'n_innings'})\n",
    "\n",
    "# merge temp df to era df\n",
    "era = era.merge(_df, on=['pitcher'])\n",
    "\n",
    "# create era metric\n",
    "era['era'] = (era['runs_scored']/era['n_innings'])*9\n",
    "\n",
    "era.head()"
   ]
  },
  {
   "cell_type": "markdown",
   "metadata": {},
   "source": [
    "stikeouts per 9. Calculate stikeouts over the cours of a game "
   ]
  },
  {
   "cell_type": "code",
   "execution_count": null,
   "metadata": {},
   "outputs": [],
   "source": []
  }
 ],
 "metadata": {
  "kernelspec": {
   "display_name": "Python 3",
   "language": "python",
   "name": "python3"
  },
  "language_info": {
   "codemirror_mode": {
    "name": "ipython",
    "version": 3
   },
   "file_extension": ".py",
   "mimetype": "text/x-python",
   "name": "python",
   "nbconvert_exporter": "python",
   "pygments_lexer": "ipython3",
   "version": "3.12.0"
  }
 },
 "nbformat": 4,
 "nbformat_minor": 2
}
